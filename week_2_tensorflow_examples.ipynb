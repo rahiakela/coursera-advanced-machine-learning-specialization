{
  "nbformat": 4,
  "nbformat_minor": 0,
  "metadata": {
    "colab": {
      "name": "week-2-tensorflow_examples.ipynb",
      "provenance": [],
      "toc_visible": true,
      "include_colab_link": true
    },
    "kernelspec": {
      "name": "python3",
      "display_name": "Python 3"
    }
  },
  "cells": [
    {
      "cell_type": "markdown",
      "metadata": {
        "id": "view-in-github",
        "colab_type": "text"
      },
      "source": [
        "<a href=\"https://colab.research.google.com/github/rahiakela/coursera-advanced-machine-learning-specialization/blob/course-1-introduction-to-deep-learning/week_2_tensorflow_examples.ipynb\" target=\"_parent\"><img src=\"https://colab.research.google.com/assets/colab-badge.svg\" alt=\"Open In Colab\"/></a>"
      ]
    },
    {
      "cell_type": "markdown",
      "metadata": {
        "id": "rIwI-7CbJswj",
        "colab_type": "text"
      },
      "source": [
        "# What is TensorFlow"
      ]
    },
    {
      "cell_type": "code",
      "metadata": {
        "id": "6mQBYYlWJzFs",
        "colab_type": "code",
        "colab": {}
      },
      "source": [
        "%config IPCompleter.greedy=True"
      ],
      "execution_count": 0,
      "outputs": []
    },
    {
      "cell_type": "code",
      "metadata": {
        "id": "__XNPLoRJzmR",
        "colab_type": "code",
        "colab": {
          "base_uri": "https://localhost:8080/",
          "height": 82
        },
        "outputId": "57463663-d354-4ad6-c92a-254432209ba8"
      },
      "source": [
        "import tensorflow as tf\n",
        "import numpy as np\n",
        "print(tf.__version__)"
      ],
      "execution_count": 2,
      "outputs": [
        {
          "output_type": "display_data",
          "data": {
            "text/html": [
              "<p style=\"color: red;\">\n",
              "The default version of TensorFlow in Colab will soon switch to TensorFlow 2.x.<br>\n",
              "We recommend you <a href=\"https://www.tensorflow.org/guide/migrate\" target=\"_blank\">upgrade</a> now \n",
              "or ensure your notebook will continue to use TensorFlow 1.x via the <code>%tensorflow_version 1.x</code> magic:\n",
              "<a href=\"https://colab.research.google.com/notebooks/tensorflow_version.ipynb\" target=\"_blank\">more info</a>.</p>\n"
            ],
            "text/plain": [
              "<IPython.core.display.HTML object>"
            ]
          },
          "metadata": {
            "tags": []
          }
        },
        {
          "output_type": "stream",
          "text": [
            "1.15.0\n"
          ],
          "name": "stdout"
        }
      ]
    },
    {
      "cell_type": "code",
      "metadata": {
        "id": "aKAi3kD_KH3b",
        "colab_type": "code",
        "colab": {
          "base_uri": "https://localhost:8080/",
          "height": 35
        },
        "outputId": "b00a19e1-18a7-486e-db66-72a6ab72235d"
      },
      "source": [
        "tf.reset_default_graph()\n",
        "a = tf.placeholder(np.float32, (2, 2))\n",
        "b = tf.Variable(tf.ones((2, 2)))\n",
        "c = a @ b\n",
        "print(c)"
      ],
      "execution_count": 4,
      "outputs": [
        {
          "output_type": "stream",
          "text": [
            "Tensor(\"matmul:0\", shape=(2, 2), dtype=float32)\n"
          ],
          "name": "stdout"
        }
      ]
    },
    {
      "cell_type": "code",
      "metadata": {
        "id": "neMB8XhOKcDV",
        "colab_type": "code",
        "colab": {
          "base_uri": "https://localhost:8080/",
          "height": 52
        },
        "outputId": "93f2993c-0e3e-476e-e2dc-c73d455d4644"
      },
      "source": [
        "s = tf.InteractiveSession()\n",
        "s.run(tf.global_variables_initializer())\n",
        "s.run(c, feed_dict={a: np.ones((2, 2))})"
      ],
      "execution_count": 6,
      "outputs": [
        {
          "output_type": "execute_result",
          "data": {
            "text/plain": [
              "array([[2., 2.],\n",
              "       [2., 2.]], dtype=float32)"
            ]
          },
          "metadata": {
            "tags": []
          },
          "execution_count": 6
        }
      ]
    },
    {
      "cell_type": "code",
      "metadata": {
        "id": "s7NclGzMK7ym",
        "colab_type": "code",
        "colab": {}
      },
      "source": [
        "s.close()"
      ],
      "execution_count": 0,
      "outputs": []
    },
    {
      "cell_type": "markdown",
      "metadata": {
        "id": "lY8V48h-LHA6",
        "colab_type": "text"
      },
      "source": [
        "# Our first model in TensorFlow"
      ]
    },
    {
      "cell_type": "markdown",
      "metadata": {
        "id": "ZqENncFPLLNF",
        "colab_type": "text"
      },
      "source": [
        "### Simple optimization (with simple prints)"
      ]
    },
    {
      "cell_type": "code",
      "metadata": {
        "id": "1L-UDz7GK-VZ",
        "colab_type": "code",
        "colab": {}
      },
      "source": [
        "tf.reset_default_graph()\n",
        "x = tf.get_variable('x', shape=(), dtype=tf.float32, trainable=True)\n",
        "f = x ** 2"
      ],
      "execution_count": 0,
      "outputs": []
    },
    {
      "cell_type": "code",
      "metadata": {
        "id": "7UvgkJ0JLkdC",
        "colab_type": "code",
        "colab": {
          "base_uri": "https://localhost:8080/",
          "height": 108
        },
        "outputId": "1ba68518-2861-4ea5-877b-e16b73e31ec4"
      },
      "source": [
        "optimizer = tf.train.GradientDescentOptimizer(0.1)\n",
        "step = optimizer.minimize(f, var_list=[x])\n",
        "tf.trainable_variables()"
      ],
      "execution_count": 9,
      "outputs": [
        {
          "output_type": "stream",
          "text": [
            "WARNING:tensorflow:From /usr/local/lib/python3.6/dist-packages/tensorflow_core/python/ops/math_grad.py:1375: where (from tensorflow.python.ops.array_ops) is deprecated and will be removed in a future version.\n",
            "Instructions for updating:\n",
            "Use tf.where in 2.0, which has the same broadcast rule as np.where\n"
          ],
          "name": "stdout"
        },
        {
          "output_type": "execute_result",
          "data": {
            "text/plain": [
              "[<tf.Variable 'x:0' shape=() dtype=float32_ref>]"
            ]
          },
          "metadata": {
            "tags": []
          },
          "execution_count": 9
        }
      ]
    },
    {
      "cell_type": "code",
      "metadata": {
        "id": "P2-H_6iFL5C5",
        "colab_type": "code",
        "colab": {
          "base_uri": "https://localhost:8080/",
          "height": 195
        },
        "outputId": "045609f3-30ff-424a-e375-a05ae3f3ade2"
      },
      "source": [
        "with tf.Session() as sess:   # in this way session will be closed automatically\n",
        "  sess.run(tf.global_variables_initializer())\n",
        "  for i in range(10):\n",
        "    _, curr_x, curr_f = sess.run([step, x, f])\n",
        "    print(curr_x, curr_f)"
      ],
      "execution_count": 10,
      "outputs": [
        {
          "output_type": "stream",
          "text": [
            "-0.44017068 0.3027347\n",
            "-0.35213655 0.19375022\n",
            "-0.28170925 0.124000154\n",
            "-0.2253674 0.079360105\n",
            "-0.18029392 0.050790463\n",
            "-0.14423513 0.032505896\n",
            "-0.11538811 0.020803774\n",
            "-0.09231049 0.013314416\n",
            "-0.07384839 0.008521226\n",
            "-0.059078712 0.0054535847\n"
          ],
          "name": "stdout"
        }
      ]
    },
    {
      "cell_type": "markdown",
      "metadata": {
        "id": "cInzRNgAMmpc",
        "colab_type": "text"
      },
      "source": [
        "### Simple optimization (with tf.Print)"
      ]
    },
    {
      "cell_type": "code",
      "metadata": {
        "id": "i_X6dOmGMZEK",
        "colab_type": "code",
        "colab": {
          "base_uri": "https://localhost:8080/",
          "height": 108
        },
        "outputId": "34009445-9ae9-4c3e-a850-215f3f37a980"
      },
      "source": [
        "tf.reset_default_graph()\n",
        "x = tf.get_variable('x', shape=(), dtype=tf.float32)\n",
        "f = x ** 2\n",
        "f = tf.Print(f, [x, f], 'x, f:')"
      ],
      "execution_count": 11,
      "outputs": [
        {
          "output_type": "stream",
          "text": [
            "WARNING:tensorflow:From <ipython-input-11-e6dd389514f1>:4: Print (from tensorflow.python.ops.logging_ops) is deprecated and will be removed after 2018-08-20.\n",
            "Instructions for updating:\n",
            "Use tf.print instead of tf.Print. Note that tf.print returns a no-output operator that directly prints the output. Outside of defuns or eager mode, this operator will not be executed unless it is directly specified in session.run or used as a control dependency for other operators. This is only a concern in graph mode. Below is an example of how to ensure tf.print executes in graph mode:\n",
            "\n"
          ],
          "name": "stdout"
        }
      ]
    },
    {
      "cell_type": "code",
      "metadata": {
        "id": "5HWwDUQFNACM",
        "colab_type": "code",
        "colab": {}
      },
      "source": [
        "optimizer = tf.train.GradientDescentOptimizer(0.1)\n",
        "step = optimizer.minimize(f)"
      ],
      "execution_count": 0,
      "outputs": []
    },
    {
      "cell_type": "code",
      "metadata": {
        "id": "IWRTEzIcNIbo",
        "colab_type": "code",
        "colab": {}
      },
      "source": [
        "with tf.Session() as sess:\n",
        "  sess.run(tf.global_variables_initializer())\n",
        "  for i in range(10):\n",
        "    sess.run([step, f])"
      ],
      "execution_count": 0,
      "outputs": []
    },
    {
      "cell_type": "markdown",
      "metadata": {
        "id": "GBOgt94UNrkM",
        "colab_type": "text"
      },
      "source": [
        "### Simple optimization (with TensorBoard logging)"
      ]
    },
    {
      "cell_type": "code",
      "metadata": {
        "id": "kBX7sueQNUaZ",
        "colab_type": "code",
        "colab": {}
      },
      "source": [
        "tf.reset_default_graph()\n",
        "x = tf.get_variable(\"x\", shape=(), dtype=tf.float32)\n",
        "f = x ** 2"
      ],
      "execution_count": 0,
      "outputs": []
    },
    {
      "cell_type": "code",
      "metadata": {
        "id": "bQCT8Y6INvi5",
        "colab_type": "code",
        "colab": {}
      },
      "source": [
        "optimizer = tf.train.GradientDescentOptimizer(0.1)\n",
        "step = optimizer.minimize(f)"
      ],
      "execution_count": 0,
      "outputs": []
    },
    {
      "cell_type": "code",
      "metadata": {
        "id": "GREAJEWjNxB0",
        "colab_type": "code",
        "colab": {}
      },
      "source": [
        "tf.summary.scalar('curr_x', x)\n",
        "tf.summary.scalar('curr_f', f)\n",
        "summaries = tf.summary.merge_all()"
      ],
      "execution_count": 0,
      "outputs": []
    },
    {
      "cell_type": "code",
      "metadata": {
        "id": "COqGGDbqOBTq",
        "colab_type": "code",
        "colab": {}
      },
      "source": [
        "s = tf.InteractiveSession()\n",
        "summary_writer = tf.summary.FileWriter('logs/1', s.graph)\n",
        "s.run(tf.global_variables_initializer())\n",
        "for i in range(10):\n",
        "  _, curr_summaries = s.run([step, summaries])\n",
        "  summary_writer.add_summary(curr_summaries, i)\n",
        "  summary_writer.flush()"
      ],
      "execution_count": 0,
      "outputs": []
    },
    {
      "cell_type": "markdown",
      "metadata": {
        "id": "AESJr7NMOqda",
        "colab_type": "text"
      },
      "source": [
        "**If you're running on Google Colab you can still run TensorBoard!**"
      ]
    },
    {
      "cell_type": "code",
      "metadata": {
        "id": "Xg7U0Zq5Oie2",
        "colab_type": "code",
        "colab": {
          "base_uri": "https://localhost:8080/",
          "height": 212
        },
        "outputId": "9b3a4e63-d26d-4412-bc4e-8c9796548eb7"
      },
      "source": [
        "! wget https://raw.githubusercontent.com/hse-aml/intro-to-dl/master/setup_google_colab.py -O setup_google_colab.py"
      ],
      "execution_count": 18,
      "outputs": [
        {
          "output_type": "stream",
          "text": [
            "--2019-12-22 10:50:33--  https://raw.githubusercontent.com/hse-aml/intro-to-dl/master/setup_google_colab.py\n",
            "Resolving raw.githubusercontent.com (raw.githubusercontent.com)... 151.101.0.133, 151.101.64.133, 151.101.128.133, ...\n",
            "Connecting to raw.githubusercontent.com (raw.githubusercontent.com)|151.101.0.133|:443... connected.\n",
            "HTTP request sent, awaiting response... 200 OK\n",
            "Length: 3636 (3.6K) [text/plain]\n",
            "Saving to: ‘setup_google_colab.py’\n",
            "\n",
            "\rsetup_google_colab.   0%[                    ]       0  --.-KB/s               \rsetup_google_colab. 100%[===================>]   3.55K  --.-KB/s    in 0s      \n",
            "\n",
            "2019-12-22 10:50:33 (78.4 MB/s) - ‘setup_google_colab.py’ saved [3636/3636]\n",
            "\n"
          ],
          "name": "stdout"
        }
      ]
    },
    {
      "cell_type": "code",
      "metadata": {
        "id": "2GE4suFhOuWe",
        "colab_type": "code",
        "colab": {
          "base_uri": "https://localhost:8080/",
          "height": 52
        },
        "outputId": "b1dae1d9-2609-4688-c6d2-3db30197373d"
      },
      "source": [
        "import setup_google_colab\n",
        "\n",
        "# run tensorboard in background\n",
        "import os\n",
        "os.system('tensorboard --logdir=./logs --host 0.0.0.0 --port 6006 &')\n",
        "\n",
        "# expose port and show the link\n",
        "setup_google_colab.expose_port_on_colab(6006)"
      ],
      "execution_count": 19,
      "outputs": [
        {
          "output_type": "stream",
          "text": [
            "Can't get public url, retrying...\n",
            "Open https://03be6fd6.ngrok.io to access your 6006 port\n"
          ],
          "name": "stdout"
        }
      ]
    },
    {
      "cell_type": "code",
      "metadata": {
        "id": "_aEJC7JCPAzz",
        "colab_type": "code",
        "colab": {}
      },
      "source": [
        "s.close()"
      ],
      "execution_count": 0,
      "outputs": []
    },
    {
      "cell_type": "markdown",
      "metadata": {
        "id": "QVzQkax1PxyK",
        "colab_type": "text"
      },
      "source": [
        "### Training a linear model"
      ]
    },
    {
      "cell_type": "code",
      "metadata": {
        "id": "Qh1jQqtqPduu",
        "colab_type": "code",
        "colab": {
          "base_uri": "https://localhost:8080/",
          "height": 52
        },
        "outputId": "68a810e2-d2ef-474b-cd1c-6c95a05d20b1"
      },
      "source": [
        "# generate model data\n",
        "N = 1000\n",
        "D = 3\n",
        "x = np.random.random((N, D))\n",
        "w = np.random.random((D, 1))\n",
        "y = x @ w + np.random.randn(N, 1) * 0.20\n",
        "\n",
        "print(x.shape, y.shape)\n",
        "print(w.T)"
      ],
      "execution_count": 23,
      "outputs": [
        {
          "output_type": "stream",
          "text": [
            "(1000, 3) (1000, 1)\n",
            "[[0.7244166  0.60522309 0.5059811 ]]\n"
          ],
          "name": "stdout"
        }
      ]
    },
    {
      "cell_type": "code",
      "metadata": {
        "id": "Pnf4tyvQQSfc",
        "colab_type": "code",
        "colab": {
          "base_uri": "https://localhost:8080/",
          "height": 35
        },
        "outputId": "66aa8742-f32b-425e-cbb2-ba1690797d2d"
      },
      "source": [
        "tf.reset_default_graph()\n",
        "\n",
        "features = tf.placeholder(tf.float32, shape=(None, D))\n",
        "target = tf.placeholder(tf.float32, shape=(None, 1))\n",
        "\n",
        "# make prediction\n",
        "weights = tf.get_variable('weights', shape=(D, 1), dtype=tf.float32)\n",
        "predictions = features @ weights\n",
        "\n",
        "# compute loss\n",
        "loss = tf.reduce_mean((target - predictions) ** 2)\n",
        "print(target.shape, predictions.shape, loss.shape)"
      ],
      "execution_count": 24,
      "outputs": [
        {
          "output_type": "stream",
          "text": [
            "(?, 1) (?, 1) ()\n"
          ],
          "name": "stdout"
        }
      ]
    },
    {
      "cell_type": "code",
      "metadata": {
        "id": "li9MtscgRYf3",
        "colab_type": "code",
        "colab": {}
      },
      "source": [
        "optimizer = tf.train.GradientDescentOptimizer(0.1)\n",
        "step = optimizer.minimize(loss)"
      ],
      "execution_count": 0,
      "outputs": []
    },
    {
      "cell_type": "code",
      "metadata": {
        "id": "p8m5VvwORsjo",
        "colab_type": "code",
        "colab": {
          "base_uri": "https://localhost:8080/",
          "height": 124
        },
        "outputId": "14138320-7e26-44e7-91b2-5da9d495d5e5"
      },
      "source": [
        "with tf.Session() as sess:\n",
        "  sess.run(tf.global_variables_initializer())\n",
        "  for i in range(300):\n",
        "    _, curr_loss, curr_weights = sess.run([step, loss, weights], feed_dict={features: x, target: y})\n",
        "    if i % 50 == 0:\n",
        "      print(curr_loss)"
      ],
      "execution_count": 26,
      "outputs": [
        {
          "output_type": "stream",
          "text": [
            "2.2483761\n",
            "0.06170673\n",
            "0.04483554\n",
            "0.04183193\n",
            "0.04129515\n",
            "0.04119886\n"
          ],
          "name": "stdout"
        }
      ]
    },
    {
      "cell_type": "code",
      "metadata": {
        "id": "FMra2Z5RSelw",
        "colab_type": "code",
        "colab": {
          "base_uri": "https://localhost:8080/",
          "height": 35
        },
        "outputId": "aa69ce6c-6490-4bf4-dbd3-10bc3b197c2e"
      },
      "source": [
        "# found weights\n",
        "curr_weights.T"
      ],
      "execution_count": 27,
      "outputs": [
        {
          "output_type": "execute_result",
          "data": {
            "text/plain": [
              "array([[0.72473514, 0.6086059 , 0.4939854 ]], dtype=float32)"
            ]
          },
          "metadata": {
            "tags": []
          },
          "execution_count": 27
        }
      ]
    },
    {
      "cell_type": "code",
      "metadata": {
        "id": "FAXymy2BSkOr",
        "colab_type": "code",
        "colab": {
          "base_uri": "https://localhost:8080/",
          "height": 35
        },
        "outputId": "cb321be2-fe20-49bf-bd33-085ae5c206fa"
      },
      "source": [
        "# true weights\n",
        "w.T"
      ],
      "execution_count": 28,
      "outputs": [
        {
          "output_type": "execute_result",
          "data": {
            "text/plain": [
              "array([[0.7244166 , 0.60522309, 0.5059811 ]])"
            ]
          },
          "metadata": {
            "tags": []
          },
          "execution_count": 28
        }
      ]
    },
    {
      "cell_type": "code",
      "metadata": {
        "id": "00jEFzXFVk72",
        "colab_type": "code",
        "colab": {
          "base_uri": "https://localhost:8080/",
          "height": 35
        },
        "outputId": "3aa3bc73-cc9e-432b-c647-e89174da850b"
      },
      "source": [
        "print(loss.shape, predictions.shape, features.shape, weights.shape)"
      ],
      "execution_count": 43,
      "outputs": [
        {
          "output_type": "stream",
          "text": [
            "() (?, 1) (?, 3) (3, 1)\n"
          ],
          "name": "stdout"
        }
      ]
    },
    {
      "cell_type": "code",
      "metadata": {
        "id": "-cRoi99-SKKq",
        "colab_type": "code",
        "colab": {}
      },
      "source": [
        "tf.summary.scalar('features', features)\n",
        "tf.summary.scalar('weights', weights)\n",
        "summaries = tf.summary.merge_all()"
      ],
      "execution_count": 0,
      "outputs": []
    },
    {
      "cell_type": "code",
      "metadata": {
        "id": "EwupqhFfTlID",
        "colab_type": "code",
        "colab": {}
      },
      "source": [
        "s = tf.InteractiveSession()\n",
        "summary_writer = tf.summary.FileWriter(\"logs/2\", s.graph)\n",
        "s.run(tf.global_variables_initializer())\n",
        "for i in range(10):\n",
        "    _, curr_summaries = s.run([step, summaries])\n",
        "    summary_writer.add_summary(curr_summaries, i)\n",
        "    summary_writer.flush()"
      ],
      "execution_count": 0,
      "outputs": []
    },
    {
      "cell_type": "code",
      "metadata": {
        "id": "lHrNfH-YTtG4",
        "colab_type": "code",
        "colab": {}
      },
      "source": [
        ""
      ],
      "execution_count": 0,
      "outputs": []
    }
  ]
}