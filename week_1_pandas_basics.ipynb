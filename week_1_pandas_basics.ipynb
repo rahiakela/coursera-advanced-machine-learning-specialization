{
  "nbformat": 4,
  "nbformat_minor": 0,
  "metadata": {
    "colab": {
      "name": "week-1-pandas-basics.ipynb",
      "provenance": [],
      "toc_visible": true,
      "include_colab_link": true
    },
    "kernelspec": {
      "name": "python3",
      "display_name": "Python 3"
    }
  },
  "cells": [
    {
      "cell_type": "markdown",
      "metadata": {
        "id": "view-in-github",
        "colab_type": "text"
      },
      "source": [
        "<a href=\"https://colab.research.google.com/github/rahiakela/coursera-advanced-machine-learning-specialization/blob/course-1-introduction-to-deep-learning/week_1_pandas_basics.ipynb\" target=\"_parent\"><img src=\"https://colab.research.google.com/assets/colab-badge.svg\" alt=\"Open In Colab\"/></a>"
      ]
    },
    {
      "cell_type": "markdown",
      "metadata": {
        "id": "7jNRf4UdPzp1",
        "colab_type": "text"
      },
      "source": [
        "# Pandas basics"
      ]
    },
    {
      "cell_type": "markdown",
      "metadata": {
        "id": "XG_RWXwnP0n9",
        "colab_type": "text"
      },
      "source": [
        "Hi! In this programming assignment you need to refresh your `pandas` knowledge. You will need to do several [`groupby`](https://pandas.pydata.org/pandas-docs/stable/generated/pandas.DataFrame.groupby.html)s and [`join`]()`s to solve the task. "
      ]
    },
    {
      "cell_type": "code",
      "metadata": {
        "id": "OHa8Nb_EP6TP",
        "colab_type": "code",
        "colab": {}
      },
      "source": [
        "import pandas as pd\n",
        "import numpy as np\n",
        "import os\n",
        "import matplotlib.pyplot as plt\n",
        "%matplotlib inline \n",
        "\n",
        "from grader import Grader"
      ],
      "execution_count": 0,
      "outputs": []
    },
    {
      "cell_type": "code",
      "metadata": {
        "id": "3WVu2yt8QQox",
        "colab_type": "code",
        "colab": {}
      },
      "source": [
        "transactions  = pd.read_csv(os.path.join('.', 'sales_train.csv.gz'))\n",
        "items         = pd.read_csv(os.path.join('.','items.csv'))\n",
        "item_categories = pd.read_csv(os.path.join('.','item_categories.csv'))\n",
        "shops         = pd.read_csv(os.path.join('.','shops.csv'))"
      ],
      "execution_count": 0,
      "outputs": []
    },
    {
      "cell_type": "markdown",
      "metadata": {
        "id": "0DfqbY34RcMb",
        "colab_type": "text"
      },
      "source": [
        "The dataset we are going to use is taken from the competition, that serves as the final project for this course. You can find complete data description at the [competition web page](https://www.kaggle.com/c/competitive-data-science-final-project/data). To join the competition use [this link](https://www.kaggle.com/t/1ea93815dca248e99221df42ebde3540)."
      ]
    },
    {
      "cell_type": "markdown",
      "metadata": {
        "id": "XZS7qyu3Rg38",
        "colab_type": "text"
      },
      "source": [
        "## Grading"
      ]
    },
    {
      "cell_type": "markdown",
      "metadata": {
        "id": "NO8P8H6wRhiW",
        "colab_type": "text"
      },
      "source": [
        "We will create a grader instace below and use it to collect your answers. When function `submit_tag` is called, grader will store your answer *locally*. The answers will *not* be submited to the platform immediately so you can call `submit_tag` function as many times as you need. \n",
        "\n",
        "When you are ready to push your answers to the platform you should fill your credentials and run `submit` function in the <a href=\"#Authorization-&-Submission\">last paragraph</a>  of the assignment."
      ]
    },
    {
      "cell_type": "code",
      "metadata": {
        "id": "vi-dsSTUQ0TY",
        "colab_type": "code",
        "colab": {}
      },
      "source": [
        "grader = Grader()"
      ],
      "execution_count": 0,
      "outputs": []
    },
    {
      "cell_type": "markdown",
      "metadata": {
        "id": "8X9zwJRaR8Mn",
        "colab_type": "text"
      },
      "source": [
        "## Task"
      ]
    },
    {
      "cell_type": "markdown",
      "metadata": {
        "id": "_J-1yh0HR-M2",
        "colab_type": "text"
      },
      "source": [
        "Let's start with a simple task. "
      ]
    },
    {
      "cell_type": "markdown",
      "metadata": {
        "id": "0FuZzS_Iau6y",
        "colab_type": "text"
      },
      "source": [
        "### Task 1: using shape and head"
      ]
    },
    {
      "cell_type": "markdown",
      "metadata": {
        "id": "DMjNs1vxaw7T",
        "colab_type": "text"
      },
      "source": [
        "<ol start=\"0\">\n",
        "  <li><b>Print the shape of the loaded dataframes and use [`df.head`](https://pandas.pydata.org/pandas-docs/stable/generated/pandas.DataFrame.head.html) function to print several rows. Examine the features you are given.</b></li>\n",
        "</ol>"
      ]
    },
    {
      "cell_type": "code",
      "metadata": {
        "id": "gTi1oMwoR5bN",
        "colab_type": "code",
        "colab": {
          "base_uri": "https://localhost:8080/",
          "height": 35
        },
        "outputId": "023fe0bd-f225-44b7-84c1-62e97b556dcc"
      },
      "source": [
        "transactions.shape"
      ],
      "execution_count": 6,
      "outputs": [
        {
          "output_type": "execute_result",
          "data": {
            "text/plain": [
              "(2935849, 6)"
            ]
          },
          "metadata": {
            "tags": []
          },
          "execution_count": 6
        }
      ]
    },
    {
      "cell_type": "code",
      "metadata": {
        "id": "-E7V2hh7SK10",
        "colab_type": "code",
        "colab": {
          "base_uri": "https://localhost:8080/",
          "height": 194
        },
        "outputId": "638e04a6-e4dc-439a-f728-b08f51837338"
      },
      "source": [
        "transactions.head()"
      ],
      "execution_count": 14,
      "outputs": [
        {
          "output_type": "execute_result",
          "data": {
            "text/html": [
              "<div>\n",
              "<style scoped>\n",
              "    .dataframe tbody tr th:only-of-type {\n",
              "        vertical-align: middle;\n",
              "    }\n",
              "\n",
              "    .dataframe tbody tr th {\n",
              "        vertical-align: top;\n",
              "    }\n",
              "\n",
              "    .dataframe thead th {\n",
              "        text-align: right;\n",
              "    }\n",
              "</style>\n",
              "<table border=\"1\" class=\"dataframe\">\n",
              "  <thead>\n",
              "    <tr style=\"text-align: right;\">\n",
              "      <th></th>\n",
              "      <th>date</th>\n",
              "      <th>date_block_num</th>\n",
              "      <th>shop_id</th>\n",
              "      <th>item_id</th>\n",
              "      <th>item_price</th>\n",
              "      <th>item_cnt_day</th>\n",
              "    </tr>\n",
              "  </thead>\n",
              "  <tbody>\n",
              "    <tr>\n",
              "      <th>0</th>\n",
              "      <td>02.01.2013</td>\n",
              "      <td>0</td>\n",
              "      <td>59</td>\n",
              "      <td>22154</td>\n",
              "      <td>999.00</td>\n",
              "      <td>1.0</td>\n",
              "    </tr>\n",
              "    <tr>\n",
              "      <th>1</th>\n",
              "      <td>03.01.2013</td>\n",
              "      <td>0</td>\n",
              "      <td>25</td>\n",
              "      <td>2552</td>\n",
              "      <td>899.00</td>\n",
              "      <td>1.0</td>\n",
              "    </tr>\n",
              "    <tr>\n",
              "      <th>2</th>\n",
              "      <td>05.01.2013</td>\n",
              "      <td>0</td>\n",
              "      <td>25</td>\n",
              "      <td>2552</td>\n",
              "      <td>899.00</td>\n",
              "      <td>-1.0</td>\n",
              "    </tr>\n",
              "    <tr>\n",
              "      <th>3</th>\n",
              "      <td>06.01.2013</td>\n",
              "      <td>0</td>\n",
              "      <td>25</td>\n",
              "      <td>2554</td>\n",
              "      <td>1709.05</td>\n",
              "      <td>1.0</td>\n",
              "    </tr>\n",
              "    <tr>\n",
              "      <th>4</th>\n",
              "      <td>15.01.2013</td>\n",
              "      <td>0</td>\n",
              "      <td>25</td>\n",
              "      <td>2555</td>\n",
              "      <td>1099.00</td>\n",
              "      <td>1.0</td>\n",
              "    </tr>\n",
              "  </tbody>\n",
              "</table>\n",
              "</div>"
            ],
            "text/plain": [
              "         date  date_block_num  shop_id  item_id  item_price  item_cnt_day\n",
              "0  02.01.2013               0       59    22154      999.00           1.0\n",
              "1  03.01.2013               0       25     2552      899.00           1.0\n",
              "2  05.01.2013               0       25     2552      899.00          -1.0\n",
              "3  06.01.2013               0       25     2554     1709.05           1.0\n",
              "4  15.01.2013               0       25     2555     1099.00           1.0"
            ]
          },
          "metadata": {
            "tags": []
          },
          "execution_count": 14
        }
      ]
    },
    {
      "cell_type": "code",
      "metadata": {
        "id": "8cCkz68dSOyG",
        "colab_type": "code",
        "colab": {
          "base_uri": "https://localhost:8080/",
          "height": 35
        },
        "outputId": "e578577b-0fe2-444e-8169-de32bdc8adb1"
      },
      "source": [
        "items.shape"
      ],
      "execution_count": 8,
      "outputs": [
        {
          "output_type": "execute_result",
          "data": {
            "text/plain": [
              "(22170, 3)"
            ]
          },
          "metadata": {
            "tags": []
          },
          "execution_count": 8
        }
      ]
    },
    {
      "cell_type": "code",
      "metadata": {
        "id": "WtW1dDbRSUd3",
        "colab_type": "code",
        "colab": {
          "base_uri": "https://localhost:8080/",
          "height": 194
        },
        "outputId": "c7c4da06-6336-4598-b773-0313d56dff1c"
      },
      "source": [
        "items.head()"
      ],
      "execution_count": 15,
      "outputs": [
        {
          "output_type": "execute_result",
          "data": {
            "text/html": [
              "<div>\n",
              "<style scoped>\n",
              "    .dataframe tbody tr th:only-of-type {\n",
              "        vertical-align: middle;\n",
              "    }\n",
              "\n",
              "    .dataframe tbody tr th {\n",
              "        vertical-align: top;\n",
              "    }\n",
              "\n",
              "    .dataframe thead th {\n",
              "        text-align: right;\n",
              "    }\n",
              "</style>\n",
              "<table border=\"1\" class=\"dataframe\">\n",
              "  <thead>\n",
              "    <tr style=\"text-align: right;\">\n",
              "      <th></th>\n",
              "      <th>item_name</th>\n",
              "      <th>item_id</th>\n",
              "      <th>item_category_id</th>\n",
              "    </tr>\n",
              "  </thead>\n",
              "  <tbody>\n",
              "    <tr>\n",
              "      <th>0</th>\n",
              "      <td>! ВО ВЛАСТИ НАВАЖДЕНИЯ (ПЛАСТ.)         D</td>\n",
              "      <td>0</td>\n",
              "      <td>40</td>\n",
              "    </tr>\n",
              "    <tr>\n",
              "      <th>1</th>\n",
              "      <td>!ABBYY FineReader 12 Professional Edition Full...</td>\n",
              "      <td>1</td>\n",
              "      <td>76</td>\n",
              "    </tr>\n",
              "    <tr>\n",
              "      <th>2</th>\n",
              "      <td>***В ЛУЧАХ СЛАВЫ   (UNV)                    D</td>\n",
              "      <td>2</td>\n",
              "      <td>40</td>\n",
              "    </tr>\n",
              "    <tr>\n",
              "      <th>3</th>\n",
              "      <td>***ГОЛУБАЯ ВОЛНА  (Univ)                      D</td>\n",
              "      <td>3</td>\n",
              "      <td>40</td>\n",
              "    </tr>\n",
              "    <tr>\n",
              "      <th>4</th>\n",
              "      <td>***КОРОБКА (СТЕКЛО)                       D</td>\n",
              "      <td>4</td>\n",
              "      <td>40</td>\n",
              "    </tr>\n",
              "  </tbody>\n",
              "</table>\n",
              "</div>"
            ],
            "text/plain": [
              "                                           item_name  item_id  item_category_id\n",
              "0          ! ВО ВЛАСТИ НАВАЖДЕНИЯ (ПЛАСТ.)         D        0                40\n",
              "1  !ABBYY FineReader 12 Professional Edition Full...        1                76\n",
              "2      ***В ЛУЧАХ СЛАВЫ   (UNV)                    D        2                40\n",
              "3    ***ГОЛУБАЯ ВОЛНА  (Univ)                      D        3                40\n",
              "4        ***КОРОБКА (СТЕКЛО)                       D        4                40"
            ]
          },
          "metadata": {
            "tags": []
          },
          "execution_count": 15
        }
      ]
    },
    {
      "cell_type": "code",
      "metadata": {
        "id": "xkZFJQphSXGA",
        "colab_type": "code",
        "colab": {
          "base_uri": "https://localhost:8080/",
          "height": 35
        },
        "outputId": "fcccaf24-23a7-4124-fb89-97ddfebc0604"
      },
      "source": [
        "item_categories.shape"
      ],
      "execution_count": 10,
      "outputs": [
        {
          "output_type": "execute_result",
          "data": {
            "text/plain": [
              "(84, 2)"
            ]
          },
          "metadata": {
            "tags": []
          },
          "execution_count": 10
        }
      ]
    },
    {
      "cell_type": "code",
      "metadata": {
        "id": "vMXsq1ITScrb",
        "colab_type": "code",
        "colab": {
          "base_uri": "https://localhost:8080/",
          "height": 194
        },
        "outputId": "69a1cc02-83a8-4c58-d77f-4ee80cb788d0"
      },
      "source": [
        "item_categories.head()"
      ],
      "execution_count": 16,
      "outputs": [
        {
          "output_type": "execute_result",
          "data": {
            "text/html": [
              "<div>\n",
              "<style scoped>\n",
              "    .dataframe tbody tr th:only-of-type {\n",
              "        vertical-align: middle;\n",
              "    }\n",
              "\n",
              "    .dataframe tbody tr th {\n",
              "        vertical-align: top;\n",
              "    }\n",
              "\n",
              "    .dataframe thead th {\n",
              "        text-align: right;\n",
              "    }\n",
              "</style>\n",
              "<table border=\"1\" class=\"dataframe\">\n",
              "  <thead>\n",
              "    <tr style=\"text-align: right;\">\n",
              "      <th></th>\n",
              "      <th>item_category_name</th>\n",
              "      <th>item_category_id</th>\n",
              "    </tr>\n",
              "  </thead>\n",
              "  <tbody>\n",
              "    <tr>\n",
              "      <th>0</th>\n",
              "      <td>PC - Гарнитуры/Наушники</td>\n",
              "      <td>0</td>\n",
              "    </tr>\n",
              "    <tr>\n",
              "      <th>1</th>\n",
              "      <td>Аксессуары - PS2</td>\n",
              "      <td>1</td>\n",
              "    </tr>\n",
              "    <tr>\n",
              "      <th>2</th>\n",
              "      <td>Аксессуары - PS3</td>\n",
              "      <td>2</td>\n",
              "    </tr>\n",
              "    <tr>\n",
              "      <th>3</th>\n",
              "      <td>Аксессуары - PS4</td>\n",
              "      <td>3</td>\n",
              "    </tr>\n",
              "    <tr>\n",
              "      <th>4</th>\n",
              "      <td>Аксессуары - PSP</td>\n",
              "      <td>4</td>\n",
              "    </tr>\n",
              "  </tbody>\n",
              "</table>\n",
              "</div>"
            ],
            "text/plain": [
              "        item_category_name  item_category_id\n",
              "0  PC - Гарнитуры/Наушники                 0\n",
              "1         Аксессуары - PS2                 1\n",
              "2         Аксессуары - PS3                 2\n",
              "3         Аксессуары - PS4                 3\n",
              "4         Аксессуары - PSP                 4"
            ]
          },
          "metadata": {
            "tags": []
          },
          "execution_count": 16
        }
      ]
    },
    {
      "cell_type": "code",
      "metadata": {
        "id": "jYOF0sN4SjfV",
        "colab_type": "code",
        "colab": {
          "base_uri": "https://localhost:8080/",
          "height": 35
        },
        "outputId": "b18add02-aa59-405d-bf9b-01217a0300bd"
      },
      "source": [
        "shops.shape"
      ],
      "execution_count": 12,
      "outputs": [
        {
          "output_type": "execute_result",
          "data": {
            "text/plain": [
              "(60, 2)"
            ]
          },
          "metadata": {
            "tags": []
          },
          "execution_count": 12
        }
      ]
    },
    {
      "cell_type": "code",
      "metadata": {
        "id": "31Yjvj4kSoXE",
        "colab_type": "code",
        "colab": {
          "base_uri": "https://localhost:8080/",
          "height": 194
        },
        "outputId": "7b1b41b6-24c7-4447-8274-814ffc14a401"
      },
      "source": [
        "shops.head()"
      ],
      "execution_count": 17,
      "outputs": [
        {
          "output_type": "execute_result",
          "data": {
            "text/html": [
              "<div>\n",
              "<style scoped>\n",
              "    .dataframe tbody tr th:only-of-type {\n",
              "        vertical-align: middle;\n",
              "    }\n",
              "\n",
              "    .dataframe tbody tr th {\n",
              "        vertical-align: top;\n",
              "    }\n",
              "\n",
              "    .dataframe thead th {\n",
              "        text-align: right;\n",
              "    }\n",
              "</style>\n",
              "<table border=\"1\" class=\"dataframe\">\n",
              "  <thead>\n",
              "    <tr style=\"text-align: right;\">\n",
              "      <th></th>\n",
              "      <th>shop_name</th>\n",
              "      <th>shop_id</th>\n",
              "    </tr>\n",
              "  </thead>\n",
              "  <tbody>\n",
              "    <tr>\n",
              "      <th>0</th>\n",
              "      <td>!Якутск Орджоникидзе, 56 фран</td>\n",
              "      <td>0</td>\n",
              "    </tr>\n",
              "    <tr>\n",
              "      <th>1</th>\n",
              "      <td>!Якутск ТЦ \"Центральный\" фран</td>\n",
              "      <td>1</td>\n",
              "    </tr>\n",
              "    <tr>\n",
              "      <th>2</th>\n",
              "      <td>Адыгея ТЦ \"Мега\"</td>\n",
              "      <td>2</td>\n",
              "    </tr>\n",
              "    <tr>\n",
              "      <th>3</th>\n",
              "      <td>Балашиха ТРК \"Октябрь-Киномир\"</td>\n",
              "      <td>3</td>\n",
              "    </tr>\n",
              "    <tr>\n",
              "      <th>4</th>\n",
              "      <td>Волжский ТЦ \"Волга Молл\"</td>\n",
              "      <td>4</td>\n",
              "    </tr>\n",
              "  </tbody>\n",
              "</table>\n",
              "</div>"
            ],
            "text/plain": [
              "                        shop_name  shop_id\n",
              "0   !Якутск Орджоникидзе, 56 фран        0\n",
              "1   !Якутск ТЦ \"Центральный\" фран        1\n",
              "2                Адыгея ТЦ \"Мега\"        2\n",
              "3  Балашиха ТРК \"Октябрь-Киномир\"        3\n",
              "4        Волжский ТЦ \"Волга Молл\"        4"
            ]
          },
          "metadata": {
            "tags": []
          },
          "execution_count": 17
        }
      ]
    },
    {
      "cell_type": "markdown",
      "metadata": {
        "id": "0W_vgBw4a1C4",
        "colab_type": "text"
      },
      "source": [
        "### Task 2: What was the maximum total revenue among all the shops in September, 2014?"
      ]
    },
    {
      "cell_type": "markdown",
      "metadata": {
        "id": "q7Nl6tXvSzRs",
        "colab_type": "text"
      },
      "source": [
        "Now use your `pandas` skills to get answers for the following questions. \n",
        "The first question is:\n",
        "\n",
        "1. **What was the maximum total revenue among all the shops in September, 2014** \n",
        "\n",
        "\n",
        "* Hereinafter *revenue* refers to total sales minus value of goods returned.\n",
        "\n",
        "*Hints:*\n",
        "\n",
        "* Sometimes items are returned, find such examples in the dataset. \n",
        "* It is handy to split `date` field into [`day`, `month`, `year`] components and use `df.year == 14` and `df.month == 9` in order to select target subset of dates.\n",
        "* You may work with `date` feature as with srings, or you may first convert it to `pd.datetime` type with `pd.to_datetime` function, but do not forget to set correct `format` argument."
      ]
    },
    {
      "cell_type": "code",
      "metadata": {
        "id": "hQfzpvtpSq7Z",
        "colab_type": "code",
        "colab": {
          "base_uri": "https://localhost:8080/",
          "height": 194
        },
        "outputId": "a45b1065-f203-47af-b34e-7debde34e5d4"
      },
      "source": [
        "# extract year, month and day from date coulmn\n",
        "transactions['year'] = pd.to_datetime(transactions['date']).dt.year\n",
        "transactions['month'] = pd.to_datetime(transactions['date']).dt.month\n",
        "transactions['day'] = pd.to_datetime(transactions['date']).dt.day\n",
        "\n",
        "transactions.head()"
      ],
      "execution_count": 25,
      "outputs": [
        {
          "output_type": "execute_result",
          "data": {
            "text/html": [
              "<div>\n",
              "<style scoped>\n",
              "    .dataframe tbody tr th:only-of-type {\n",
              "        vertical-align: middle;\n",
              "    }\n",
              "\n",
              "    .dataframe tbody tr th {\n",
              "        vertical-align: top;\n",
              "    }\n",
              "\n",
              "    .dataframe thead th {\n",
              "        text-align: right;\n",
              "    }\n",
              "</style>\n",
              "<table border=\"1\" class=\"dataframe\">\n",
              "  <thead>\n",
              "    <tr style=\"text-align: right;\">\n",
              "      <th></th>\n",
              "      <th>date</th>\n",
              "      <th>date_block_num</th>\n",
              "      <th>shop_id</th>\n",
              "      <th>item_id</th>\n",
              "      <th>item_price</th>\n",
              "      <th>item_cnt_day</th>\n",
              "      <th>year</th>\n",
              "      <th>month</th>\n",
              "      <th>day</th>\n",
              "    </tr>\n",
              "  </thead>\n",
              "  <tbody>\n",
              "    <tr>\n",
              "      <th>0</th>\n",
              "      <td>02.01.2013</td>\n",
              "      <td>0</td>\n",
              "      <td>59</td>\n",
              "      <td>22154</td>\n",
              "      <td>999.00</td>\n",
              "      <td>1.0</td>\n",
              "      <td>2013</td>\n",
              "      <td>2</td>\n",
              "      <td>1</td>\n",
              "    </tr>\n",
              "    <tr>\n",
              "      <th>1</th>\n",
              "      <td>03.01.2013</td>\n",
              "      <td>0</td>\n",
              "      <td>25</td>\n",
              "      <td>2552</td>\n",
              "      <td>899.00</td>\n",
              "      <td>1.0</td>\n",
              "      <td>2013</td>\n",
              "      <td>3</td>\n",
              "      <td>1</td>\n",
              "    </tr>\n",
              "    <tr>\n",
              "      <th>2</th>\n",
              "      <td>05.01.2013</td>\n",
              "      <td>0</td>\n",
              "      <td>25</td>\n",
              "      <td>2552</td>\n",
              "      <td>899.00</td>\n",
              "      <td>-1.0</td>\n",
              "      <td>2013</td>\n",
              "      <td>5</td>\n",
              "      <td>1</td>\n",
              "    </tr>\n",
              "    <tr>\n",
              "      <th>3</th>\n",
              "      <td>06.01.2013</td>\n",
              "      <td>0</td>\n",
              "      <td>25</td>\n",
              "      <td>2554</td>\n",
              "      <td>1709.05</td>\n",
              "      <td>1.0</td>\n",
              "      <td>2013</td>\n",
              "      <td>6</td>\n",
              "      <td>1</td>\n",
              "    </tr>\n",
              "    <tr>\n",
              "      <th>4</th>\n",
              "      <td>15.01.2013</td>\n",
              "      <td>0</td>\n",
              "      <td>25</td>\n",
              "      <td>2555</td>\n",
              "      <td>1099.00</td>\n",
              "      <td>1.0</td>\n",
              "      <td>2013</td>\n",
              "      <td>1</td>\n",
              "      <td>15</td>\n",
              "    </tr>\n",
              "  </tbody>\n",
              "</table>\n",
              "</div>"
            ],
            "text/plain": [
              "         date  date_block_num  shop_id  item_id  ...  item_cnt_day  year  month  day\n",
              "0  02.01.2013               0       59    22154  ...           1.0  2013      2    1\n",
              "1  03.01.2013               0       25     2552  ...           1.0  2013      3    1\n",
              "2  05.01.2013               0       25     2552  ...          -1.0  2013      5    1\n",
              "3  06.01.2013               0       25     2554  ...           1.0  2013      6    1\n",
              "4  15.01.2013               0       25     2555  ...           1.0  2013      1   15\n",
              "\n",
              "[5 rows x 9 columns]"
            ]
          },
          "metadata": {
            "tags": []
          },
          "execution_count": 25
        }
      ]
    },
    {
      "cell_type": "code",
      "metadata": {
        "id": "qlk81OY9YeOK",
        "colab_type": "code",
        "colab": {
          "base_uri": "https://localhost:8080/",
          "height": 194
        },
        "outputId": "b15d2e50-6efe-4a17-bbc3-e2b1d768c140"
      },
      "source": [
        "# check the single condition for year\n",
        "trans_date = transactions.loc[transactions['year'] == 2014]\n",
        "trans_date.head()"
      ],
      "execution_count": 33,
      "outputs": [
        {
          "output_type": "execute_result",
          "data": {
            "text/html": [
              "<div>\n",
              "<style scoped>\n",
              "    .dataframe tbody tr th:only-of-type {\n",
              "        vertical-align: middle;\n",
              "    }\n",
              "\n",
              "    .dataframe tbody tr th {\n",
              "        vertical-align: top;\n",
              "    }\n",
              "\n",
              "    .dataframe thead th {\n",
              "        text-align: right;\n",
              "    }\n",
              "</style>\n",
              "<table border=\"1\" class=\"dataframe\">\n",
              "  <thead>\n",
              "    <tr style=\"text-align: right;\">\n",
              "      <th></th>\n",
              "      <th>date</th>\n",
              "      <th>date_block_num</th>\n",
              "      <th>shop_id</th>\n",
              "      <th>item_id</th>\n",
              "      <th>item_price</th>\n",
              "      <th>item_cnt_day</th>\n",
              "      <th>year</th>\n",
              "      <th>month</th>\n",
              "      <th>day</th>\n",
              "    </tr>\n",
              "  </thead>\n",
              "  <tbody>\n",
              "    <tr>\n",
              "      <th>1267562</th>\n",
              "      <td>02.01.2014</td>\n",
              "      <td>12</td>\n",
              "      <td>54</td>\n",
              "      <td>10297</td>\n",
              "      <td>749.0</td>\n",
              "      <td>1.0</td>\n",
              "      <td>2014</td>\n",
              "      <td>2</td>\n",
              "      <td>1</td>\n",
              "    </tr>\n",
              "    <tr>\n",
              "      <th>1267563</th>\n",
              "      <td>10.01.2014</td>\n",
              "      <td>12</td>\n",
              "      <td>54</td>\n",
              "      <td>10297</td>\n",
              "      <td>749.0</td>\n",
              "      <td>1.0</td>\n",
              "      <td>2014</td>\n",
              "      <td>10</td>\n",
              "      <td>1</td>\n",
              "    </tr>\n",
              "    <tr>\n",
              "      <th>1267564</th>\n",
              "      <td>24.01.2014</td>\n",
              "      <td>12</td>\n",
              "      <td>54</td>\n",
              "      <td>10297</td>\n",
              "      <td>749.0</td>\n",
              "      <td>1.0</td>\n",
              "      <td>2014</td>\n",
              "      <td>1</td>\n",
              "      <td>24</td>\n",
              "    </tr>\n",
              "    <tr>\n",
              "      <th>1267565</th>\n",
              "      <td>24.01.2014</td>\n",
              "      <td>12</td>\n",
              "      <td>54</td>\n",
              "      <td>10296</td>\n",
              "      <td>1599.0</td>\n",
              "      <td>1.0</td>\n",
              "      <td>2014</td>\n",
              "      <td>1</td>\n",
              "      <td>24</td>\n",
              "    </tr>\n",
              "    <tr>\n",
              "      <th>1267566</th>\n",
              "      <td>31.01.2014</td>\n",
              "      <td>12</td>\n",
              "      <td>54</td>\n",
              "      <td>10297</td>\n",
              "      <td>749.0</td>\n",
              "      <td>1.0</td>\n",
              "      <td>2014</td>\n",
              "      <td>1</td>\n",
              "      <td>31</td>\n",
              "    </tr>\n",
              "  </tbody>\n",
              "</table>\n",
              "</div>"
            ],
            "text/plain": [
              "               date  date_block_num  shop_id  ...  year  month  day\n",
              "1267562  02.01.2014              12       54  ...  2014      2    1\n",
              "1267563  10.01.2014              12       54  ...  2014     10    1\n",
              "1267564  24.01.2014              12       54  ...  2014      1   24\n",
              "1267565  24.01.2014              12       54  ...  2014      1   24\n",
              "1267566  31.01.2014              12       54  ...  2014      1   31\n",
              "\n",
              "[5 rows x 9 columns]"
            ]
          },
          "metadata": {
            "tags": []
          },
          "execution_count": 33
        }
      ]
    },
    {
      "cell_type": "code",
      "metadata": {
        "id": "VrKFMgL3Ze7f",
        "colab_type": "code",
        "colab": {
          "base_uri": "https://localhost:8080/",
          "height": 194
        },
        "outputId": "75e07677-15be-4b65-b468-bc4c15ec37e1"
      },
      "source": [
        "# check the single condition for month\n",
        "trans_date = transactions.loc[transactions['month'] == 9]\n",
        "trans_date.head()"
      ],
      "execution_count": 31,
      "outputs": [
        {
          "output_type": "execute_result",
          "data": {
            "text/html": [
              "<div>\n",
              "<style scoped>\n",
              "    .dataframe tbody tr th:only-of-type {\n",
              "        vertical-align: middle;\n",
              "    }\n",
              "\n",
              "    .dataframe tbody tr th {\n",
              "        vertical-align: top;\n",
              "    }\n",
              "\n",
              "    .dataframe thead th {\n",
              "        text-align: right;\n",
              "    }\n",
              "</style>\n",
              "<table border=\"1\" class=\"dataframe\">\n",
              "  <thead>\n",
              "    <tr style=\"text-align: right;\">\n",
              "      <th></th>\n",
              "      <th>date</th>\n",
              "      <th>date_block_num</th>\n",
              "      <th>shop_id</th>\n",
              "      <th>item_id</th>\n",
              "      <th>item_price</th>\n",
              "      <th>item_cnt_day</th>\n",
              "      <th>year</th>\n",
              "      <th>month</th>\n",
              "      <th>day</th>\n",
              "    </tr>\n",
              "  </thead>\n",
              "  <tbody>\n",
              "    <tr>\n",
              "      <th>20</th>\n",
              "      <td>09.01.2013</td>\n",
              "      <td>0</td>\n",
              "      <td>25</td>\n",
              "      <td>2593</td>\n",
              "      <td>279.0</td>\n",
              "      <td>1.0</td>\n",
              "      <td>2013</td>\n",
              "      <td>9</td>\n",
              "      <td>1</td>\n",
              "    </tr>\n",
              "    <tr>\n",
              "      <th>96</th>\n",
              "      <td>09.01.2013</td>\n",
              "      <td>0</td>\n",
              "      <td>25</td>\n",
              "      <td>2808</td>\n",
              "      <td>999.0</td>\n",
              "      <td>1.0</td>\n",
              "      <td>2013</td>\n",
              "      <td>9</td>\n",
              "      <td>1</td>\n",
              "    </tr>\n",
              "    <tr>\n",
              "      <th>162</th>\n",
              "      <td>09.01.2013</td>\n",
              "      <td>0</td>\n",
              "      <td>25</td>\n",
              "      <td>2256</td>\n",
              "      <td>299.0</td>\n",
              "      <td>1.0</td>\n",
              "      <td>2013</td>\n",
              "      <td>9</td>\n",
              "      <td>1</td>\n",
              "    </tr>\n",
              "    <tr>\n",
              "      <th>164</th>\n",
              "      <td>09.01.2013</td>\n",
              "      <td>0</td>\n",
              "      <td>25</td>\n",
              "      <td>2257</td>\n",
              "      <td>299.0</td>\n",
              "      <td>1.0</td>\n",
              "      <td>2013</td>\n",
              "      <td>9</td>\n",
              "      <td>1</td>\n",
              "    </tr>\n",
              "    <tr>\n",
              "      <th>166</th>\n",
              "      <td>09.01.2013</td>\n",
              "      <td>0</td>\n",
              "      <td>25</td>\n",
              "      <td>2258</td>\n",
              "      <td>299.0</td>\n",
              "      <td>2.0</td>\n",
              "      <td>2013</td>\n",
              "      <td>9</td>\n",
              "      <td>1</td>\n",
              "    </tr>\n",
              "  </tbody>\n",
              "</table>\n",
              "</div>"
            ],
            "text/plain": [
              "           date  date_block_num  shop_id  ...  year  month  day\n",
              "20   09.01.2013               0       25  ...  2013      9    1\n",
              "96   09.01.2013               0       25  ...  2013      9    1\n",
              "162  09.01.2013               0       25  ...  2013      9    1\n",
              "164  09.01.2013               0       25  ...  2013      9    1\n",
              "166  09.01.2013               0       25  ...  2013      9    1\n",
              "\n",
              "[5 rows x 9 columns]"
            ]
          },
          "metadata": {
            "tags": []
          },
          "execution_count": 31
        }
      ]
    },
    {
      "cell_type": "code",
      "metadata": {
        "id": "dZ3AX31MVZGN",
        "colab_type": "code",
        "colab": {
          "base_uri": "https://localhost:8080/",
          "height": 194
        },
        "outputId": "4918dabc-bb9b-47db-b17a-c85bc173169a"
      },
      "source": [
        "# combining both conditions for year and month\n",
        "trans_date = transactions.loc[(transactions['year'] == 2014) & (transactions['month'] == 9)]\n",
        "trans_date.head()"
      ],
      "execution_count": 34,
      "outputs": [
        {
          "output_type": "execute_result",
          "data": {
            "text/html": [
              "<div>\n",
              "<style scoped>\n",
              "    .dataframe tbody tr th:only-of-type {\n",
              "        vertical-align: middle;\n",
              "    }\n",
              "\n",
              "    .dataframe tbody tr th {\n",
              "        vertical-align: top;\n",
              "    }\n",
              "\n",
              "    .dataframe thead th {\n",
              "        text-align: right;\n",
              "    }\n",
              "</style>\n",
              "<table border=\"1\" class=\"dataframe\">\n",
              "  <thead>\n",
              "    <tr style=\"text-align: right;\">\n",
              "      <th></th>\n",
              "      <th>date</th>\n",
              "      <th>date_block_num</th>\n",
              "      <th>shop_id</th>\n",
              "      <th>item_id</th>\n",
              "      <th>item_price</th>\n",
              "      <th>item_cnt_day</th>\n",
              "      <th>year</th>\n",
              "      <th>month</th>\n",
              "      <th>day</th>\n",
              "    </tr>\n",
              "  </thead>\n",
              "  <tbody>\n",
              "    <tr>\n",
              "      <th>1267571</th>\n",
              "      <td>09.01.2014</td>\n",
              "      <td>12</td>\n",
              "      <td>54</td>\n",
              "      <td>10300</td>\n",
              "      <td>699.0</td>\n",
              "      <td>1.0</td>\n",
              "      <td>2014</td>\n",
              "      <td>9</td>\n",
              "      <td>1</td>\n",
              "    </tr>\n",
              "    <tr>\n",
              "      <th>1267595</th>\n",
              "      <td>09.01.2014</td>\n",
              "      <td>12</td>\n",
              "      <td>54</td>\n",
              "      <td>10292</td>\n",
              "      <td>99.0</td>\n",
              "      <td>1.0</td>\n",
              "      <td>2014</td>\n",
              "      <td>9</td>\n",
              "      <td>1</td>\n",
              "    </tr>\n",
              "    <tr>\n",
              "      <th>1267605</th>\n",
              "      <td>09.01.2014</td>\n",
              "      <td>12</td>\n",
              "      <td>54</td>\n",
              "      <td>10376</td>\n",
              "      <td>399.0</td>\n",
              "      <td>1.0</td>\n",
              "      <td>2014</td>\n",
              "      <td>9</td>\n",
              "      <td>1</td>\n",
              "    </tr>\n",
              "    <tr>\n",
              "      <th>1267800</th>\n",
              "      <td>09.01.2014</td>\n",
              "      <td>12</td>\n",
              "      <td>54</td>\n",
              "      <td>11305</td>\n",
              "      <td>499.0</td>\n",
              "      <td>-1.0</td>\n",
              "      <td>2014</td>\n",
              "      <td>9</td>\n",
              "      <td>1</td>\n",
              "    </tr>\n",
              "    <tr>\n",
              "      <th>1267862</th>\n",
              "      <td>09.01.2014</td>\n",
              "      <td>12</td>\n",
              "      <td>54</td>\n",
              "      <td>10457</td>\n",
              "      <td>149.0</td>\n",
              "      <td>1.0</td>\n",
              "      <td>2014</td>\n",
              "      <td>9</td>\n",
              "      <td>1</td>\n",
              "    </tr>\n",
              "  </tbody>\n",
              "</table>\n",
              "</div>"
            ],
            "text/plain": [
              "               date  date_block_num  shop_id  ...  year  month  day\n",
              "1267571  09.01.2014              12       54  ...  2014      9    1\n",
              "1267595  09.01.2014              12       54  ...  2014      9    1\n",
              "1267605  09.01.2014              12       54  ...  2014      9    1\n",
              "1267800  09.01.2014              12       54  ...  2014      9    1\n",
              "1267862  09.01.2014              12       54  ...  2014      9    1\n",
              "\n",
              "[5 rows x 9 columns]"
            ]
          },
          "metadata": {
            "tags": []
          },
          "execution_count": 34
        }
      ]
    },
    {
      "cell_type": "code",
      "metadata": {
        "id": "bzkUNIFWaDIg",
        "colab_type": "code",
        "colab": {
          "base_uri": "https://localhost:8080/",
          "height": 35
        },
        "outputId": "66bee0b1-2747-4ea3-fa6f-bc01087c0a7d"
      },
      "source": [
        "# count the total sales on this date\n",
        "total_sales = np.round((trans_date['item_cnt_day'] * trans_date['item_price']).sum())\n",
        "total_sales"
      ],
      "execution_count": 38,
      "outputs": [
        {
          "output_type": "execute_result",
          "data": {
            "text/plain": [
              "116282853.0"
            ]
          },
          "metadata": {
            "tags": []
          },
          "execution_count": 38
        }
      ]
    },
    {
      "cell_type": "code",
      "metadata": {
        "id": "J-vO7HBJbRwn",
        "colab_type": "code",
        "colab": {
          "base_uri": "https://localhost:8080/",
          "height": 35
        },
        "outputId": "a2081754-e4f1-4386-be01-a3387af31d90"
      },
      "source": [
        "max_revenue = total_sales\n",
        "grader.submit_tag('max_revenue', max_revenue)"
      ],
      "execution_count": 39,
      "outputs": [
        {
          "output_type": "stream",
          "text": [
            "Current answer for task max_revenue is: 116282853.0\n"
          ],
          "name": "stdout"
        }
      ]
    },
    {
      "cell_type": "markdown",
      "metadata": {
        "id": "lqVQZUvcdpAo",
        "colab_type": "text"
      },
      "source": [
        "### Task 3: What item category generated the highest revenue in summer 2014?"
      ]
    },
    {
      "cell_type": "markdown",
      "metadata": {
        "id": "PEw1opucdqpL",
        "colab_type": "text"
      },
      "source": [
        "Great! Let's move on and answer another question:\n",
        "\n",
        "<ol start=\"2\">\n",
        "  <li><b>What item category generated the highest revenue in summer 2014?</b></li>\n",
        "</ol>\n",
        "\n",
        "* Submit `id` of the category found.\n",
        "    \n",
        "* Here we call \"summer\" the period from June to August.\n",
        "\n",
        "*Hints:*\n",
        "\n",
        "* Note, that for an object `x` of type `pd.Series`: `x.argmax()` returns **index** of the maximum element. `pd.Series` can have non-trivial index (not `[1, 2, 3, ... ]`)."
      ]
    },
    {
      "cell_type": "code",
      "metadata": {
        "id": "kwluF7O8co5I",
        "colab_type": "code",
        "colab": {}
      },
      "source": [
        ""
      ],
      "execution_count": 0,
      "outputs": []
    }
  ]
}